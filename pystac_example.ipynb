{
 "cells": [
  {
   "cell_type": "code",
   "execution_count": 1,
   "id": "6d9c001d",
   "metadata": {},
   "outputs": [
    {
     "name": "stdout",
     "output_type": "stream",
     "text": [
      "ID: stac\n",
      "Title: EcoDataCube\n",
      "Description: Spatio-Temporal Asset Catalog for European-wide layers provided by [EcoDataCube](http://EcoDataCube.eu).\n"
     ]
    }
   ],
   "source": [
    "import json\n",
    "from pystac import Catalog, get_stac_version\n",
    "\n",
    "root_catalog = Catalog.from_file('https://s3.ecodatacube.eu/arco/stac/catalog.json')\n",
    "print(f\"ID: {root_catalog.id}\")\n",
    "print(f\"Title: {root_catalog.title or 'N/A'}\")\n",
    "print(f\"Description: {root_catalog.description or 'N/A'}\")\n"
   ]
  },
  {
   "cell_type": "code",
   "execution_count": 2,
   "id": "42a280b3",
   "metadata": {},
   "outputs": [
    {
     "name": "stdout",
     "output_type": "stream",
     "text": [
      "Number of collections: 162\n"
     ]
    }
   ],
   "source": [
    "collections = list(root_catalog.get_collections())\n",
    "print(f\"Number of collections: {len(collections)}\")\n",
    "\n",
    "# root_catalog.describe()"
   ]
  },
  {
   "cell_type": "code",
   "execution_count": 22,
   "id": "9c75c59f",
   "metadata": {},
   "outputs": [
    {
     "name": "stdout",
     "output_type": "stream",
     "text": [
      "Number of NDVI relevant collections: 7\n"
     ]
    }
   ],
   "source": [
    "ndvi_collection = []\n",
    "for icol in collections:\n",
    "    if 'NDVI' in icol.description:\n",
    "        ndvi_collection.append(icol)\n",
    "\n",
    "print(f\"Number of NDVI relevant collections: {len(ndvi_collection)}\")\n"
   ]
  },
  {
   "cell_type": "code",
   "execution_count": 72,
   "id": "03b72353",
   "metadata": {},
   "outputs": [
    {
     "name": "stdout",
     "output_type": "stream",
     "text": [
      "Number of collections covering Wageningen: 162\n"
     ]
    }
   ],
   "source": [
    "import shapely.geometry as geom\n",
    "from shapely.geometry import Polygon\n",
    "import geopandas as gpd\n",
    "\n",
    "# eg: Wageningen polygon ~ (5.666, 51.966)\n",
    "wageningen_poly = geom.Polygon([\n",
    "    (5.65, 51.95),\n",
    "    (5.68, 51.95),\n",
    "    (5.68, 51.98),\n",
    "    (5.65, 51.98),\n",
    "    (5.65, 51.95)\n",
    "])\n",
    "\n",
    "gdf = gpd.GeoDataFrame({\"id\": [1]}, geometry=[wageningen_poly], crs=\"EPSG:4326\")\n",
    "\n",
    "\n",
    "wageningen_collection = []\n",
    "\n",
    "for icol in collections:\n",
    "    bbox = icol.extent.spatial.bboxes[0]\n",
    "\n",
    "    collection_extent = Polygon([\n",
    "        (bbox[0], bbox[1]),  # lower-left\n",
    "        (bbox[2], bbox[1]),  # lower-right\n",
    "        (bbox[2], bbox[3]),  # upper-right\n",
    "        (bbox[0], bbox[3]),  # upper-left\n",
    "        (bbox[0], bbox[1])   # close polygon\n",
    "    ])\n",
    "\n",
    "    if collection_extent.contains(gdf.iloc[0].geometry):\n",
    "        wageningen_collection.append(icol)\n",
    "\n",
    "print(f\"Number of collections covering Wageningen: {len(wageningen_collection)}\")\n"
   ]
  },
  {
   "cell_type": "code",
   "execution_count": 46,
   "id": "91ea00d4",
   "metadata": {},
   "outputs": [
    {
     "name": "stdout",
     "output_type": "stream",
     "text": [
      "Number of collections covering 2022-01-01: 60\n"
     ]
    }
   ],
   "source": [
    "from datetime import datetime, timezone\n",
    "\n",
    "# make the test date timezone-aware in UTC\n",
    "# so that it's consistent with collection time stamp\n",
    "date_to_check = datetime(2022, 1, 1, tzinfo=timezone.utc)\n",
    "\n",
    "collection_20220101 = []\n",
    "\n",
    "for icol in collections:\n",
    "    start, end = icol.extent.temporal.intervals[0]\n",
    "    \n",
    "    is_covered = start <= date_to_check <= end\n",
    "\n",
    "    if is_covered:\n",
    "        collection_20220101.append(icol)\n",
    "\n",
    "print(\"Number of collections covering 2022-01-01:\", len(collection_20220101))\n"
   ]
  },
  {
   "cell_type": "code",
   "execution_count": 52,
   "id": "76b68708",
   "metadata": {},
   "outputs": [
    {
     "name": "stdout",
     "output_type": "stream",
     "text": [
      "Number of NDVI-trend relevant collections: 1\n",
      "ID: ndvi_glad.landsat.ard2.seasconv.yearly.m.theilslopes\n",
      "Title: Cloud-free reconstructed Landsat long-term trend of Normalized Difference Vegetation Index (NDVI)\n",
      "Description: Slope fiited with Theil-Sen estimator on annual NDVI time series between 2000 and 2022.\n"
     ]
    }
   ],
   "source": [
    "ndvi_trend_collection = []\n",
    "for icol in collections:\n",
    "    if 'NDVI' in icol.description:\n",
    "        if 'Slope' in icol.description:\n",
    "            ndvi_trend_collection.append(icol)\n",
    "\n",
    "print(f\"Number of NDVI-trend relevant collections: {len(ndvi_trend_collection)}\")\n",
    "\n",
    "print(f\"ID: {ndvi_trend_collection[0].id}\")\n",
    "print(f\"Title: {ndvi_trend_collection[0].title or 'N/A'}\")\n",
    "print(f\"Description: {ndvi_trend_collection[0].description or 'N/A'}\")\n"
   ]
  },
  {
   "cell_type": "code",
   "execution_count": null,
   "id": "c4a0ca5e",
   "metadata": {},
   "outputs": [
    {
     "data": {
      "text/plain": [
       "[<Link rel=root target=<Catalog id=stac>>,\n",
       " <Link rel=item target=./ndvi_glad.landsat.ard2.seasconv.yearly.m.theilslopes_20000101_20221231/ndvi_glad.landsat.ard2.seasconv.yearly.m.theilslopes_20000101_20221231.json>,\n",
       " <Link rel=self target=https://s3.ecodatacube.eu/arco/stac/ndvi_glad.landsat.ard2.seasconv.yearly.m.theilslopes/collection.json>,\n",
       " <Link rel=parent target=<Catalog id=stac>>]"
      ]
     },
     "execution_count": 57,
     "metadata": {},
     "output_type": "execute_result"
    }
   ],
   "source": [
    "ndvi_trend_collection[0].links"
   ]
  },
  {
   "cell_type": "code",
   "execution_count": 64,
   "id": "402359c1",
   "metadata": {},
   "outputs": [
    {
     "data": {
      "text/plain": [
       "{'ndvi_glad.landsat.ard2.seasconv.yearly.m.theilslopes_m_30m_s': <Asset href=https://s3.ecodatacube.eu/arco/ndvi_glad.landsat.ard2.seasconv.yearly.m.theilslopes_m_30m_s_20000101_20221231_eu_epsg.3035_v20231218.tif>,\n",
       " 'sld': <Asset href=https://s3.ecodatacube.eu/arco/ndvi_glad.landsat.ard2.seasconv.yearly.m.theilslopes.sld>,\n",
       " 'qml': <Asset href=https://s3.ecodatacube.eu/arco/ndvi_glad.landsat.ard2.seasconv.yearly.m.theilslopes.qml>,\n",
       " 'thumbnail': <Asset href=https://s3.ecodatacube.eu/arco/stac/ndvi_glad.landsat.ard2.seasconv.yearly.m.theilslopes/ndvi_glad.landsat.ard2.seasconv.yearly.m.theilslopes_20000101_20221231/ndvi_glad.landsat.ard2.seasconv.yearly.m.theilslopes_m_30m_s_20000101_20221231_eu_epsg.3035_v20231218.png>}"
      ]
     },
     "execution_count": 64,
     "metadata": {},
     "output_type": "execute_result"
    }
   ],
   "source": [
    "import pystac\n",
    "ndvi_trend_item = pystac.read_file(ndvi_trend_collection[0].links[1])\n",
    "ndvi_trend_item.assets"
   ]
  },
  {
   "cell_type": "code",
   "execution_count": 74,
   "id": "377ad6a9",
   "metadata": {},
   "outputs": [
    {
     "data": {
      "text/plain": [
       "CRS.from_wkt('PROJCS[\"ETRS89-extended / LAEA Europe\",GEOGCS[\"ETRS89\",DATUM[\"European_Terrestrial_Reference_System_1989\",SPHEROID[\"GRS 1980\",6378137,298.257222101,AUTHORITY[\"EPSG\",\"7019\"]],AUTHORITY[\"EPSG\",\"6258\"]],PRIMEM[\"Greenwich\",0,AUTHORITY[\"EPSG\",\"8901\"]],UNIT[\"degree\",0.0174532925199433,AUTHORITY[\"EPSG\",\"9122\"]],AUTHORITY[\"EPSG\",\"4258\"]],PROJECTION[\"Lambert_Azimuthal_Equal_Area\"],PARAMETER[\"latitude_of_center\",52],PARAMETER[\"longitude_of_center\",10],PARAMETER[\"false_easting\",4321000],PARAMETER[\"false_northing\",3210000],UNIT[\"metre\",1,AUTHORITY[\"EPSG\",\"9001\"]],AXIS[\"Northing\",NORTH],AXIS[\"Easting\",EAST],AUTHORITY[\"EPSG\",\"3035\"]]')"
      ]
     },
     "execution_count": 74,
     "metadata": {},
     "output_type": "execute_result"
    }
   ],
   "source": [
    "src.crs"
   ]
  },
  {
   "cell_type": "code",
   "execution_count": 78,
   "id": "dc25368a",
   "metadata": {},
   "outputs": [
    {
     "name": "stdout",
     "output_type": "stream",
     "text": [
      "S3 url: https://s3.ecodatacube.eu/arco/ndvi_glad.landsat.ard2.seasconv.yearly.m.theilslopes_m_30m_s_20000101_20221231_eu_epsg.3035_v20231218.tif\n"
     ]
    },
    {
     "data": {
      "image/png": "[encoded data removed]",
      "text/plain": [
       "<Figure size 640x480 with 2 Axes>"
      ]
     },
     "metadata": {},
     "output_type": "display_data"
    }
   ],
   "source": [
    "import rasterio\n",
    "from rasterio.mask import mask\n",
    "from shapely.geometry import mapping\n",
    "import matplotlib.pyplot as plt\n",
    "\n",
    "# get url from item asset link\n",
    "asset_url = ndvi_trend_item.assets.get('ndvi_glad.landsat.ard2.seasconv.yearly.m.theilslopes_m_30m_s').href\n",
    "print('S3 url:', asset_url)\n",
    "\n",
    "# open raster directly from S3 (requires rasterio with HTTP enabled, which is default)\n",
    "with rasterio.open(asset_url) as src:\n",
    "    gdf_proj = gdf.to_crs(src.crs)\n",
    "    # crop the raster with the polygon\n",
    "    out_image, out_transform = mask(src, [mapping(gdf_proj.geometry[0])], crop=True)\n",
    "    out_meta = src.meta.copy()\n",
    "\n",
    "# plot the cropped raster\n",
    "plt.imshow(out_image[0], cmap=\"viridis\")\n",
    "plt.title(\"Cropped raster over Wageningen\")\n",
    "plt.colorbar(label=\"Value\")\n",
    "plt.show()\n"
   ]
  },
  {
   "cell_type": "code",
   "execution_count": null,
   "id": "3c95609f",
   "metadata": {},
   "outputs": [],
   "source": []
  }
 ],
 "metadata": {
  "kernelspec": {
   "display_name": "python-programming",
   "language": "python",
   "name": "python3"
  },
  "language_info": {
   "codemirror_mode": {
    "name": "ipython",
    "version": 3
   },
   "file_extension": ".py",
   "mimetype": "text/x-python",
   "name": "python",
   "nbconvert_exporter": "python",
   "pygments_lexer": "ipython3",
   "version": "3.13.5"
  }
 },
 "nbformat": 4,
 "nbformat_minor": 5
}
